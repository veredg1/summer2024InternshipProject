{
 "cells": [
  {
   "cell_type": "code",
   "id": "initial_id",
   "metadata": {
    "collapsed": true,
    "ExecuteTime": {
     "end_time": "2024-08-08T12:14:02.004741Z",
     "start_time": "2024-08-08T12:14:02.001775Z"
    }
   },
   "source": [
    "import pandas as pd\n",
    "import shutil"
   ],
   "outputs": [],
   "execution_count": 11
  },
  {
   "metadata": {
    "ExecuteTime": {
     "end_time": "2024-08-08T12:14:09.910482Z",
     "start_time": "2024-08-08T12:14:03.089120Z"
    }
   },
   "cell_type": "code",
   "source": [
    "length = 10\n",
    "usDFList = []\n",
    "israelDFList = []\n",
    "for i in range(length):\n",
    "    usDFList.append(pd.read_excel(\"/Users/veredwork/Documents/US_Historical_Data.xlsx\", sheet_name=f\"Sheet {i+1}\"))\n",
    "    israelDFList.append(pd.read_excel(\"/Users/veredwork/Documents/Israel_Historical_Data.xlsx\", sheet_name=f\"Sheet {i+1}\"))\n",
    "\n"
   ],
   "id": "680f13f786c38936",
   "outputs": [],
   "execution_count": 12
  },
  {
   "metadata": {
    "ExecuteTime": {
     "end_time": "2024-08-08T12:14:15.688986Z",
     "start_time": "2024-08-08T12:14:14.084249Z"
    }
   },
   "cell_type": "code",
   "source": [
    "for df in usDFList:\n",
    "    companyName = df.columns[0].split(\" - \")[1]\n",
    "    df.columns = df.loc[0]\n",
    "    df = df.loc[1: ]\n",
    "    file_name = f\"{companyName}.xlsx\"\n",
    "    df.to_excel(file_name, index=False)\n",
    "    shutil.move(file_name,\"US_Companies\")\n",
    "    \n",
    "    print(\"done\", companyName)\n",
    "    \n",
    "    "
   ],
   "id": "d100a10edf75bb12",
   "outputs": [
    {
     "name": "stdout",
     "output_type": "stream",
     "text": [
      "done US Amazon\n",
      "done US Microsoft\n",
      "done US Alphabet\n",
      "done US Apple\n",
      "done US NVIDIA\n",
      "done US Tesla\n",
      "done US Eli Lilly\n",
      "done JP Morgan\n",
      "done US Walmart\n",
      "done US Meta\n"
     ]
    }
   ],
   "execution_count": 13
  },
  {
   "metadata": {
    "ExecuteTime": {
     "end_time": "2024-08-08T12:14:19.841371Z",
     "start_time": "2024-08-08T12:14:18.498594Z"
    }
   },
   "cell_type": "code",
   "source": [
    "for df in israelDFList:\n",
    "    companyName = df.columns[0].split(\" - \")[1]\n",
    "    df.columns = df.loc[0]\n",
    "    df = df.loc[1: ]\n",
    "    file_name = f\"{companyName}.xlsx\"\n",
    "    df.to_excel(file_name, index=False)\n",
    "    shutil.move(file_name,\"Israel_Companies\")\n",
    "    \n",
    "    print(\"done\", companyName)\n",
    "    "
   ],
   "id": "cf06a4a410292a7b",
   "outputs": [
    {
     "name": "stdout",
     "output_type": "stream",
     "text": [
      "done Israel Checkpoint\n",
      "done Israel Teva\n",
      "done Israel Monday\n",
      "done Israel NICE\n",
      "done Israel CyberArk\n",
      "done Israel WIX\n",
      "done Israel ELBIT\n",
      "done Israel Leonardo\n",
      "done Israel Nova LTD\n",
      "done Israel ICL Group\n"
     ]
    }
   ],
   "execution_count": 14
  },
  {
   "metadata": {
    "ExecuteTime": {
     "end_time": "2024-08-07T08:46:48.965719Z",
     "start_time": "2024-08-07T08:46:48.963437Z"
    }
   },
   "cell_type": "code",
   "source": "df = usDFList[0]",
   "id": "789ea3a290b1d422",
   "outputs": [],
   "execution_count": 5
  },
  {
   "metadata": {
    "ExecuteTime": {
     "end_time": "2024-08-07T08:46:53.709027Z",
     "start_time": "2024-08-07T08:46:53.702167Z"
    }
   },
   "cell_type": "code",
   "source": "df.head()",
   "id": "4b3ab937aca1fee9",
   "outputs": [
    {
     "data": {
      "text/plain": [
       "  HistoricalData_1722339536023 - US Amazon  Unnamed: 1 Unnamed: 2 Unnamed: 3  \\\n",
       "0                                     Date  Close/Last     Volume       Open   \n",
       "1                      2024-02-08 00:00:00     $167.90  141448400    $166.75   \n",
       "2                      2024-01-08 00:00:00     $184.07   70435640   $189.285   \n",
       "3                               07/31/2024     $186.98   41667330    $185.05   \n",
       "4                               07/30/2024     $181.71   39508570    $184.72   \n",
       "\n",
       "  Unnamed: 4 Unnamed: 5  \n",
       "0       High        Low  \n",
       "1    $168.77    $160.55  \n",
       "2    $190.60    $181.87  \n",
       "3    $187.94    $184.46  \n",
       "4    $185.86    $179.38  "
      ],
      "text/html": [
       "<div>\n",
       "<style scoped>\n",
       "    .dataframe tbody tr th:only-of-type {\n",
       "        vertical-align: middle;\n",
       "    }\n",
       "\n",
       "    .dataframe tbody tr th {\n",
       "        vertical-align: top;\n",
       "    }\n",
       "\n",
       "    .dataframe thead th {\n",
       "        text-align: right;\n",
       "    }\n",
       "</style>\n",
       "<table border=\"1\" class=\"dataframe\">\n",
       "  <thead>\n",
       "    <tr style=\"text-align: right;\">\n",
       "      <th></th>\n",
       "      <th>HistoricalData_1722339536023 - US Amazon</th>\n",
       "      <th>Unnamed: 1</th>\n",
       "      <th>Unnamed: 2</th>\n",
       "      <th>Unnamed: 3</th>\n",
       "      <th>Unnamed: 4</th>\n",
       "      <th>Unnamed: 5</th>\n",
       "    </tr>\n",
       "  </thead>\n",
       "  <tbody>\n",
       "    <tr>\n",
       "      <th>0</th>\n",
       "      <td>Date</td>\n",
       "      <td>Close/Last</td>\n",
       "      <td>Volume</td>\n",
       "      <td>Open</td>\n",
       "      <td>High</td>\n",
       "      <td>Low</td>\n",
       "    </tr>\n",
       "    <tr>\n",
       "      <th>1</th>\n",
       "      <td>2024-02-08 00:00:00</td>\n",
       "      <td>$167.90</td>\n",
       "      <td>141448400</td>\n",
       "      <td>$166.75</td>\n",
       "      <td>$168.77</td>\n",
       "      <td>$160.55</td>\n",
       "    </tr>\n",
       "    <tr>\n",
       "      <th>2</th>\n",
       "      <td>2024-01-08 00:00:00</td>\n",
       "      <td>$184.07</td>\n",
       "      <td>70435640</td>\n",
       "      <td>$189.285</td>\n",
       "      <td>$190.60</td>\n",
       "      <td>$181.87</td>\n",
       "    </tr>\n",
       "    <tr>\n",
       "      <th>3</th>\n",
       "      <td>07/31/2024</td>\n",
       "      <td>$186.98</td>\n",
       "      <td>41667330</td>\n",
       "      <td>$185.05</td>\n",
       "      <td>$187.94</td>\n",
       "      <td>$184.46</td>\n",
       "    </tr>\n",
       "    <tr>\n",
       "      <th>4</th>\n",
       "      <td>07/30/2024</td>\n",
       "      <td>$181.71</td>\n",
       "      <td>39508570</td>\n",
       "      <td>$184.72</td>\n",
       "      <td>$185.86</td>\n",
       "      <td>$179.38</td>\n",
       "    </tr>\n",
       "  </tbody>\n",
       "</table>\n",
       "</div>"
      ]
     },
     "execution_count": 6,
     "metadata": {},
     "output_type": "execute_result"
    }
   ],
   "execution_count": 6
  },
  {
   "metadata": {
    "ExecuteTime": {
     "end_time": "2024-08-07T08:48:10.819604Z",
     "start_time": "2024-08-07T08:48:10.817274Z"
    }
   },
   "cell_type": "code",
   "source": "companyName = df.columns[0]",
   "id": "a51f2deab107d1b5",
   "outputs": [],
   "execution_count": 9
  },
  {
   "metadata": {
    "ExecuteTime": {
     "end_time": "2024-08-07T08:48:34.691282Z",
     "start_time": "2024-08-07T08:48:34.688861Z"
    }
   },
   "cell_type": "code",
   "source": "companyName = companyName.split(\" - \")[1]",
   "id": "66713f77e562a26d",
   "outputs": [],
   "execution_count": 11
  },
  {
   "metadata": {
    "ExecuteTime": {
     "end_time": "2024-08-07T08:48:38.221628Z",
     "start_time": "2024-08-07T08:48:38.217500Z"
    }
   },
   "cell_type": "code",
   "source": "companyName",
   "id": "da8cd3efde63edc1",
   "outputs": [
    {
     "data": {
      "text/plain": [
       "'US Amazon'"
      ]
     },
     "execution_count": 12,
     "metadata": {},
     "output_type": "execute_result"
    }
   ],
   "execution_count": 12
  },
  {
   "metadata": {
    "ExecuteTime": {
     "end_time": "2024-08-07T08:50:06.796186Z",
     "start_time": "2024-08-07T08:50:06.790943Z"
    }
   },
   "cell_type": "code",
   "source": [
    "columns = df.loc[0]\n",
    "df.columns = columns\n",
    "df.columns"
   ],
   "id": "645d534f382743ab",
   "outputs": [
    {
     "data": {
      "text/plain": [
       "Index(['Date', 'Close/Last', 'Volume', 'Open', 'High', 'Low'], dtype='object', name=0)"
      ]
     },
     "execution_count": 13,
     "metadata": {},
     "output_type": "execute_result"
    }
   ],
   "execution_count": 13
  },
  {
   "metadata": {
    "ExecuteTime": {
     "end_time": "2024-08-07T08:50:14.476379Z",
     "start_time": "2024-08-07T08:50:14.470614Z"
    }
   },
   "cell_type": "code",
   "source": [
    "df.head(\n",
    ")"
   ],
   "id": "9ffc92d27c23da1d",
   "outputs": [
    {
     "data": {
      "text/plain": [
       "0                 Date  Close/Last     Volume      Open     High      Low\n",
       "0                 Date  Close/Last     Volume      Open     High      Low\n",
       "1  2024-02-08 00:00:00     $167.90  141448400   $166.75  $168.77  $160.55\n",
       "2  2024-01-08 00:00:00     $184.07   70435640  $189.285  $190.60  $181.87\n",
       "3           07/31/2024     $186.98   41667330   $185.05  $187.94  $184.46\n",
       "4           07/30/2024     $181.71   39508570   $184.72  $185.86  $179.38"
      ],
      "text/html": [
       "<div>\n",
       "<style scoped>\n",
       "    .dataframe tbody tr th:only-of-type {\n",
       "        vertical-align: middle;\n",
       "    }\n",
       "\n",
       "    .dataframe tbody tr th {\n",
       "        vertical-align: top;\n",
       "    }\n",
       "\n",
       "    .dataframe thead th {\n",
       "        text-align: right;\n",
       "    }\n",
       "</style>\n",
       "<table border=\"1\" class=\"dataframe\">\n",
       "  <thead>\n",
       "    <tr style=\"text-align: right;\">\n",
       "      <th></th>\n",
       "      <th>Date</th>\n",
       "      <th>Close/Last</th>\n",
       "      <th>Volume</th>\n",
       "      <th>Open</th>\n",
       "      <th>High</th>\n",
       "      <th>Low</th>\n",
       "    </tr>\n",
       "  </thead>\n",
       "  <tbody>\n",
       "    <tr>\n",
       "      <th>0</th>\n",
       "      <td>Date</td>\n",
       "      <td>Close/Last</td>\n",
       "      <td>Volume</td>\n",
       "      <td>Open</td>\n",
       "      <td>High</td>\n",
       "      <td>Low</td>\n",
       "    </tr>\n",
       "    <tr>\n",
       "      <th>1</th>\n",
       "      <td>2024-02-08 00:00:00</td>\n",
       "      <td>$167.90</td>\n",
       "      <td>141448400</td>\n",
       "      <td>$166.75</td>\n",
       "      <td>$168.77</td>\n",
       "      <td>$160.55</td>\n",
       "    </tr>\n",
       "    <tr>\n",
       "      <th>2</th>\n",
       "      <td>2024-01-08 00:00:00</td>\n",
       "      <td>$184.07</td>\n",
       "      <td>70435640</td>\n",
       "      <td>$189.285</td>\n",
       "      <td>$190.60</td>\n",
       "      <td>$181.87</td>\n",
       "    </tr>\n",
       "    <tr>\n",
       "      <th>3</th>\n",
       "      <td>07/31/2024</td>\n",
       "      <td>$186.98</td>\n",
       "      <td>41667330</td>\n",
       "      <td>$185.05</td>\n",
       "      <td>$187.94</td>\n",
       "      <td>$184.46</td>\n",
       "    </tr>\n",
       "    <tr>\n",
       "      <th>4</th>\n",
       "      <td>07/30/2024</td>\n",
       "      <td>$181.71</td>\n",
       "      <td>39508570</td>\n",
       "      <td>$184.72</td>\n",
       "      <td>$185.86</td>\n",
       "      <td>$179.38</td>\n",
       "    </tr>\n",
       "  </tbody>\n",
       "</table>\n",
       "</div>"
      ]
     },
     "execution_count": 14,
     "metadata": {},
     "output_type": "execute_result"
    }
   ],
   "execution_count": 14
  },
  {
   "metadata": {
    "ExecuteTime": {
     "end_time": "2024-08-07T08:50:51.771011Z",
     "start_time": "2024-08-07T08:50:51.768376Z"
    }
   },
   "cell_type": "code",
   "source": "df = df.loc[1: ]",
   "id": "c86577425535e779",
   "outputs": [],
   "execution_count": 15
  },
  {
   "metadata": {
    "ExecuteTime": {
     "end_time": "2024-08-07T08:50:54.013232Z",
     "start_time": "2024-08-07T08:50:54.007497Z"
    }
   },
   "cell_type": "code",
   "source": "df",
   "id": "91b5aa57e7259f19",
   "outputs": [
    {
     "data": {
      "text/plain": [
       "0                    Date Close/Last     Volume      Open      High       Low\n",
       "1     2024-02-08 00:00:00    $167.90  141448400   $166.75   $168.77   $160.55\n",
       "2     2024-01-08 00:00:00    $184.07   70435640  $189.285   $190.60   $181.87\n",
       "3              07/31/2024    $186.98   41667330   $185.05   $187.94   $184.46\n",
       "4              07/30/2024    $181.71   39508570   $184.72   $185.86   $179.38\n",
       "5              07/29/2024    $183.20   33270120   $183.84   $184.75   $182.38\n",
       "...                   ...        ...        ...       ...       ...       ...\n",
       "1258           08/05/2019   $88.2565  121164240   $88.511  $89.4334   $87.439\n",
       "1259           08/02/2019    $91.162   99124500  $92.2535  $92.3182   $90.401\n",
       "1260           08/01/2019    $92.766   94266220   $93.586   $94.896  $92.2005\n",
       "1261           07/31/2019    $93.339   89414540  $94.9055  $94.9775   $92.472\n",
       "1262           07/30/2019   $94.9265   58217760  $94.5558  $95.4945   $94.174\n",
       "\n",
       "[1262 rows x 6 columns]"
      ],
      "text/html": [
       "<div>\n",
       "<style scoped>\n",
       "    .dataframe tbody tr th:only-of-type {\n",
       "        vertical-align: middle;\n",
       "    }\n",
       "\n",
       "    .dataframe tbody tr th {\n",
       "        vertical-align: top;\n",
       "    }\n",
       "\n",
       "    .dataframe thead th {\n",
       "        text-align: right;\n",
       "    }\n",
       "</style>\n",
       "<table border=\"1\" class=\"dataframe\">\n",
       "  <thead>\n",
       "    <tr style=\"text-align: right;\">\n",
       "      <th></th>\n",
       "      <th>Date</th>\n",
       "      <th>Close/Last</th>\n",
       "      <th>Volume</th>\n",
       "      <th>Open</th>\n",
       "      <th>High</th>\n",
       "      <th>Low</th>\n",
       "    </tr>\n",
       "  </thead>\n",
       "  <tbody>\n",
       "    <tr>\n",
       "      <th>1</th>\n",
       "      <td>2024-02-08 00:00:00</td>\n",
       "      <td>$167.90</td>\n",
       "      <td>141448400</td>\n",
       "      <td>$166.75</td>\n",
       "      <td>$168.77</td>\n",
       "      <td>$160.55</td>\n",
       "    </tr>\n",
       "    <tr>\n",
       "      <th>2</th>\n",
       "      <td>2024-01-08 00:00:00</td>\n",
       "      <td>$184.07</td>\n",
       "      <td>70435640</td>\n",
       "      <td>$189.285</td>\n",
       "      <td>$190.60</td>\n",
       "      <td>$181.87</td>\n",
       "    </tr>\n",
       "    <tr>\n",
       "      <th>3</th>\n",
       "      <td>07/31/2024</td>\n",
       "      <td>$186.98</td>\n",
       "      <td>41667330</td>\n",
       "      <td>$185.05</td>\n",
       "      <td>$187.94</td>\n",
       "      <td>$184.46</td>\n",
       "    </tr>\n",
       "    <tr>\n",
       "      <th>4</th>\n",
       "      <td>07/30/2024</td>\n",
       "      <td>$181.71</td>\n",
       "      <td>39508570</td>\n",
       "      <td>$184.72</td>\n",
       "      <td>$185.86</td>\n",
       "      <td>$179.38</td>\n",
       "    </tr>\n",
       "    <tr>\n",
       "      <th>5</th>\n",
       "      <td>07/29/2024</td>\n",
       "      <td>$183.20</td>\n",
       "      <td>33270120</td>\n",
       "      <td>$183.84</td>\n",
       "      <td>$184.75</td>\n",
       "      <td>$182.38</td>\n",
       "    </tr>\n",
       "    <tr>\n",
       "      <th>...</th>\n",
       "      <td>...</td>\n",
       "      <td>...</td>\n",
       "      <td>...</td>\n",
       "      <td>...</td>\n",
       "      <td>...</td>\n",
       "      <td>...</td>\n",
       "    </tr>\n",
       "    <tr>\n",
       "      <th>1258</th>\n",
       "      <td>08/05/2019</td>\n",
       "      <td>$88.2565</td>\n",
       "      <td>121164240</td>\n",
       "      <td>$88.511</td>\n",
       "      <td>$89.4334</td>\n",
       "      <td>$87.439</td>\n",
       "    </tr>\n",
       "    <tr>\n",
       "      <th>1259</th>\n",
       "      <td>08/02/2019</td>\n",
       "      <td>$91.162</td>\n",
       "      <td>99124500</td>\n",
       "      <td>$92.2535</td>\n",
       "      <td>$92.3182</td>\n",
       "      <td>$90.401</td>\n",
       "    </tr>\n",
       "    <tr>\n",
       "      <th>1260</th>\n",
       "      <td>08/01/2019</td>\n",
       "      <td>$92.766</td>\n",
       "      <td>94266220</td>\n",
       "      <td>$93.586</td>\n",
       "      <td>$94.896</td>\n",
       "      <td>$92.2005</td>\n",
       "    </tr>\n",
       "    <tr>\n",
       "      <th>1261</th>\n",
       "      <td>07/31/2019</td>\n",
       "      <td>$93.339</td>\n",
       "      <td>89414540</td>\n",
       "      <td>$94.9055</td>\n",
       "      <td>$94.9775</td>\n",
       "      <td>$92.472</td>\n",
       "    </tr>\n",
       "    <tr>\n",
       "      <th>1262</th>\n",
       "      <td>07/30/2019</td>\n",
       "      <td>$94.9265</td>\n",
       "      <td>58217760</td>\n",
       "      <td>$94.5558</td>\n",
       "      <td>$95.4945</td>\n",
       "      <td>$94.174</td>\n",
       "    </tr>\n",
       "  </tbody>\n",
       "</table>\n",
       "<p>1262 rows × 6 columns</p>\n",
       "</div>"
      ]
     },
     "execution_count": 16,
     "metadata": {},
     "output_type": "execute_result"
    }
   ],
   "execution_count": 16
  },
  {
   "metadata": {},
   "cell_type": "code",
   "outputs": [],
   "execution_count": null,
   "source": "",
   "id": "b3a66d38edde8351"
  }
 ],
 "metadata": {
  "kernelspec": {
   "display_name": "Python 3",
   "language": "python",
   "name": "python3"
  },
  "language_info": {
   "codemirror_mode": {
    "name": "ipython",
    "version": 2
   },
   "file_extension": ".py",
   "mimetype": "text/x-python",
   "name": "python",
   "nbconvert_exporter": "python",
   "pygments_lexer": "ipython2",
   "version": "2.7.6"
  }
 },
 "nbformat": 4,
 "nbformat_minor": 5
}
